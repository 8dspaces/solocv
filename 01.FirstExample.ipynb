{
 "cells": [
  {
   "cell_type": "code",
   "execution_count": 1,
   "metadata": {},
   "outputs": [],
   "source": [
    "## 引入相应的包 \n",
    "\n",
    "import cv2    ### pip install opencv-python\n",
    "import os\n",
    "import matplotlib.pyplot as plt\n",
    "\n",
    "from IPython.display import display, clear_output"
   ]
  },
  {
   "cell_type": "code",
   "execution_count": 2,
   "metadata": {},
   "outputs": [
    {
     "data": {
      "text/plain": [
       "'detect 1 people'"
      ]
     },
     "metadata": {},
     "output_type": "display_data"
    },
    {
     "ename": "KeyboardInterrupt",
     "evalue": "",
     "output_type": "error",
     "traceback": [
      "\u001b[0;31m---------------------------------------------------------------------------\u001b[0m",
      "\u001b[0;31mKeyboardInterrupt\u001b[0m                         Traceback (most recent call last)",
      "\u001b[0;32m<ipython-input-2-b69cef6ca2d3>\u001b[0m in \u001b[0;36m<module>\u001b[0;34m\u001b[0m\n\u001b[1;32m     26\u001b[0m \u001b[0;34m\u001b[0m\u001b[0m\n\u001b[1;32m     27\u001b[0m     \u001b[0;31m# 检查人脸 按照1.1倍放到 周围最小像素为5\u001b[0m\u001b[0;34m\u001b[0m\u001b[0;34m\u001b[0m\u001b[0;34m\u001b[0m\u001b[0m\n\u001b[0;32m---> 28\u001b[0;31m     \u001b[0mface_zone\u001b[0m \u001b[0;34m=\u001b[0m \u001b[0mface_detect\u001b[0m\u001b[0;34m.\u001b[0m\u001b[0mdetectMultiScale\u001b[0m\u001b[0;34m(\u001b[0m\u001b[0mgray\u001b[0m\u001b[0;34m,\u001b[0m \u001b[0mscaleFactor\u001b[0m \u001b[0;34m=\u001b[0m \u001b[0;36m1.2\u001b[0m\u001b[0;34m,\u001b[0m \u001b[0mminNeighbors\u001b[0m \u001b[0;34m=\u001b[0m \u001b[0;36m5\u001b[0m\u001b[0;34m)\u001b[0m\u001b[0;34m\u001b[0m\u001b[0;34m\u001b[0m\u001b[0m\n\u001b[0m\u001b[1;32m     29\u001b[0m \u001b[0;34m\u001b[0m\u001b[0m\n\u001b[1;32m     30\u001b[0m \u001b[0;34m\u001b[0m\u001b[0m\n",
      "\u001b[0;31mKeyboardInterrupt\u001b[0m: "
     ]
    }
   ],
   "source": [
    "\n",
    "\n",
    "## 会打开摄像头动态捕捉，监测人脸数 \n",
    "cap = cv2.VideoCapture(0)    \n",
    "\n",
    "\n",
    "## 也可以用已经有的视频，打开对应的视频文件，动态监测人脸数\n",
    "#cap = cv2.VideoCapture('XXXX.mp4') \n",
    "\n",
    "\n",
    "\n",
    "# 调用熟悉的人脸分类器 识别特征类型\n",
    "# 人脸 - haarcascade_frontalface_default.xml\n",
    "# 人眼 - haarcascade_eye.xm\n",
    "# 微笑 - haarcascade_smile.xml\n",
    "#face_detect = cv2.CascadeClassifier(r'c:/Users/liu\\AppData/Local/Programs/Python/Python37/Lib\\site-packages/cv2\\data/haarcascade_frontalface_alt.xml')\n",
    "face_detect = cv2.CascadeClassifier(cv2.data.haarcascades + 'haarcascade_frontalface_default.xml')\n",
    "num_list = []\n",
    "while True:\n",
    "    # 读取视频片段\n",
    "    flag, frame = cap.read()\n",
    "    if flag == False:\n",
    "        print(\"失败\")\n",
    "        break\n",
    "\n",
    "    # 灰度处理\n",
    "    gray = cv2.cvtColor(frame, code=cv2.COLOR_BGR2GRAY)\n",
    "\n",
    "    # 检查人脸 按照1.1倍放到 周围最小像素为5\n",
    "    face_zone = face_detect.detectMultiScale(gray, scaleFactor = 1.2, minNeighbors = 5)\n",
    "    \n",
    "\n",
    "    # 绘制矩形和圆形检测人脸\n",
    "    num = 0\n",
    "    \n",
    "    for x, y, w, h in face_zone:\n",
    "        num = num + 1\n",
    "        cv2.rectangle(frame, pt1 = (x, y), pt2 = (x+w, y+h), color = [0,0,255], thickness=2)\n",
    "        cv2.circle(frame, center = (x + w//2, y + h//2), radius = w//2, color = [0,255,0], thickness = 2)\n",
    "        cv2.putText(frame, str(num), (x,y), cv2.FONT_HERSHEY_COMPLEX, 1, (0, 255, 0), 1)\n",
    "    # 显示图片\n",
    "    cv2.putText(frame, \"{}people\".format(num), (10,50), cv2.FONT_HERSHEY_COMPLEX, 1, (142, 125, 52), 1)\n",
    "    cv2.imshow('video', frame)\n",
    "    num_list.append(num)\n",
    "    \n",
    "    clear_output(wait=True)\n",
    "    display(\"detect {} people\".format(num))  ## num 就是检测到的人脸数\n",
    "\n",
    "    \n",
    "    # 设置空格退出键和展示频率\n",
    "    if ord(' ') == cv2.waitKey(20):\n",
    "        break\n",
    "\n",
    "cap.release()\n",
    "plt.plot(num_list,'ro')\n",
    "plt.show()\n",
    "# 释放资源\n",
    "cv2.destroyAllWindows()\n",
    "\n",
    "\n"
   ]
  }
 ],
 "metadata": {
  "hide_input": false,
  "kernelspec": {
   "display_name": "Python 3.9",
   "language": "python",
   "name": "python3.9"
  },
  "language_info": {
   "codemirror_mode": {
    "name": "ipython",
    "version": 3
   },
   "file_extension": ".py",
   "mimetype": "text/x-python",
   "name": "python",
   "nbconvert_exporter": "python",
   "pygments_lexer": "ipython3",
   "version": "3.9.0"
  }
 },
 "nbformat": 4,
 "nbformat_minor": 4
}
